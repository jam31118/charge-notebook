{
 "cells": [
  {
   "cell_type": "code",
   "execution_count": 1,
   "metadata": {},
   "outputs": [],
   "source": [
    "import matplotlib.pyplot as plt\n",
    "import numpy as np"
   ]
  },
  {
   "cell_type": "code",
   "execution_count": 2,
   "metadata": {},
   "outputs": [],
   "source": [
    "beta, c = 0.0, 1.0 / 0.0072973525693\n",
    "vs = lambda t: np.array([beta*c,0,0])\n",
    "rs = lambda t: np.array([-1,0,0]) + t * vs(t)"
   ]
  },
  {
   "cell_type": "code",
   "execution_count": 3,
   "metadata": {},
   "outputs": [],
   "source": [
    "from scipy.optimize import fsolve\n",
    "\n",
    "def tr(r, t, rs, c):\n",
    "    \"\"\"retarded time in atomic unit\"\"\"\n",
    "    def g(dt, r, t, rs, c): return np.sqrt(np.square(r-rs(t-dt)).sum(-1)) - c*dt\n",
    "    try: _dt, = fsolve(g, 0.0, args=(r,t,rs,c))\n",
    "    except: raise Exception(\"Failed to find retarded time\")\n",
    "    return t - _dt\n",
    "\n",
    "def tr_arr(r_arr, t, rs, c):\n",
    "    assert isinstance(r_arr, np.ndarray)\n",
    "    assert r_arr.ndim >= 1 and r_arr.shape[-1] == 3\n",
    "    \n",
    "    _vec3_arr_shape = r_arr.shape[:-1]\n",
    "    _num_of_vec3 = int(np.prod(_vec3_arr_shape))\n",
    "    _r_arr_reshape = r_arr.reshape((_num_of_vec3,3))\n",
    "#     _tr_arr = np.empty((_num_of_vec3,), dtype=float)\n",
    "    _tr_arr = np.array([tr(_vec3, t, rs, c) for _vec3 in _r_arr_reshape]).reshape(_vec3_arr_shape)\n",
    "    return _tr_arr\n",
    "\n",
    "#     for r_vec\n",
    "#     _tr_vectorized = np.vectorize(tr)\n",
    "#     _tr_arr = _tr_vectorized(r_arr, t, rs, c)\n",
    "#     return _tr_arr"
   ]
  },
  {
   "cell_type": "code",
   "execution_count": 4,
   "metadata": {},
   "outputs": [
    {
     "data": {
      "text/plain": [
       "array(1.47810794)"
      ]
     },
     "execution_count": 4,
     "metadata": {},
     "output_type": "execute_result"
    }
   ],
   "source": [
    "r = np.array([2,0,0])\n",
    "t = 1.5\n",
    "\n",
    "tr_arr(r, t, rs, c)"
   ]
  },
  {
   "cell_type": "code",
   "execution_count": 5,
   "metadata": {},
   "outputs": [
    {
     "data": {
      "text/plain": [
       "array([[1.48212521, 1.4449062 ],\n",
       "       [1.40711987, 1.36925718],\n",
       "       [1.33136957, 1.29347074],\n",
       "       [1.25556592, 1.21765752]])"
      ]
     },
     "execution_count": 5,
     "metadata": {},
     "output_type": "execute_result"
    }
   ],
   "source": [
    "r_vec = np.arange(24).reshape((4,2,3))\n",
    "t = 1.5\n",
    "\n",
    "tr_arr(r_vec, t, rs, c)"
   ]
  }
 ],
 "metadata": {
  "kernelspec": {
   "display_name": "Python 3",
   "language": "python",
   "name": "python3"
  },
  "language_info": {
   "codemirror_mode": {
    "name": "ipython",
    "version": 3
   },
   "file_extension": ".py",
   "mimetype": "text/x-python",
   "name": "python",
   "nbconvert_exporter": "python",
   "pygments_lexer": "ipython3",
   "version": "3.5.2"
  }
 },
 "nbformat": 4,
 "nbformat_minor": 2
}
