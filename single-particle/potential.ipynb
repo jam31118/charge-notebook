{
 "cells": [
  {
   "cell_type": "code",
   "execution_count": 1,
   "metadata": {},
   "outputs": [],
   "source": [
    "import matplotlib.pyplot as plt\n",
    "import numpy as np"
   ]
  },
  {
   "cell_type": "markdown",
   "metadata": {},
   "source": [
    "# Define object for moving point charge"
   ]
  },
  {
   "cell_type": "code",
   "execution_count": 2,
   "metadata": {},
   "outputs": [],
   "source": [
    "from numbers import Real\n",
    "\n",
    "import numpy as np\n",
    "\n",
    "from charge.time import tr_arr\n",
    "\n",
    "class Moving_Point_Charge(object):\n",
    "    \n",
    "    # System spatial dimension\n",
    "    dim = 3\n",
    "    \n",
    "    # light speed in atomic unit\n",
    "    c = 1.0 / 0.0072973525693\n",
    "    \n",
    "    def __init__(self, q, rs, vs):\n",
    "        for _arg in (rs, vs): self._check_particle_vector_callable(_arg)\n",
    "        assert isinstance(q, Real)\n",
    "        self.q, self.rs, self.vs = q, rs, vs\n",
    "        \n",
    "    def _check_particle_vector_callable(self, arg):\n",
    "        assert callable(arg)\n",
    "        _vec = arg(0)\n",
    "        assert isinstance(_vec, np.ndarray)\n",
    "        assert _vec.shape == (self.dim,)\n",
    "        \n",
    "    def potentials(self, xyz, t):\n",
    "        \"\"\"\n",
    "        Evaluate Liénard–Wiechert scalar and vector potentials \n",
    "        at given space-time point(s) in atomic unit\n",
    "        \"\"\"\n",
    "        try: _rs,_vs,_xyz = (np.array(_o) for _o in (rs(t),vs(t),xyz))\n",
    "        except: raise TypeError()\n",
    "        for _obj in (_rs, _vs): assert _obj.shape == (self.dim,)\n",
    "        \n",
    "    \n",
    "    def scalarpot_xyz(self, xyz, t):\n",
    "        \"\"\"\n",
    "        Evaluate Liénard–Wiechert scalar potential \n",
    "        at given space-time point(s) in atomic unit\n",
    "        \"\"\"\n",
    "        \n",
    "        try: _xyz = np.array(xyz)\n",
    "        except: raise TypeError()\n",
    "        \n",
    "        _tr_arr = tr_arr(_xyz, t, self.rs, self.c)  # retarded time in atomic unit\n",
    "        \n",
    "        _rs, _vs = np.empty_like(_xyz), np.empty_like(_xyz)\n",
    "        \n",
    "        for _ind, _tr in np.ndenumerate(_tr_arr):\n",
    "            _rs[_ind], _vs[_ind] = self.rs(_tr), self.vs(_tr)\n",
    "        \n",
    "#         _rs = np.array([self.rs(_tr) for _tr in _tr_arr])\n",
    "#         _vs = np.array([self.vs(_tr) for _tr in _tr_arr])\n",
    "        \n",
    "#         try: _rs,_vs,_xyz = (np.array(_o) for _o in (self.rs(t),self.vs(t),xyz))\n",
    "#         except: raise TypeError()\n",
    "#         for _obj in (_rs, _vs): assert _obj.shape == (self.dim,)\n",
    "        \n",
    "        _beta = _vs / self.c  # velocity relative to the light speed\n",
    "        _rela_xyz = _xyz - _rs\n",
    "        _dist = np.sqrt(np.square(_rela_xyz).sum(axis=-1))\n",
    "        assert np.all(_dist > 0)\n",
    "        \n",
    "        _denom = _dist - (_rela_xyz * _beta).sum(axis=-1)\n",
    "        _pot = self.q / _denom  # in atomic unit\n",
    "        return _pot\n",
    "    \n",
    "    \n",
    "    def scalarpot(self, x, y, z, t):\n",
    "        try: _xyz = np.moveaxis(np.array((x,y,z)), 0, -1)\n",
    "        except: raise Exception(\"Failed to construct coordinate array\")\n",
    "        return self.scalarpot_xyz(_xyz, t)"
   ]
  },
  {
   "cell_type": "markdown",
   "metadata": {},
   "source": [
    "# Define a particle"
   ]
  },
  {
   "cell_type": "code",
   "execution_count": 3,
   "metadata": {},
   "outputs": [],
   "source": [
    "beta = 0.5\n",
    "vs = lambda t: np.array([beta*Moving_Point_Charge.c,0,0])\n",
    "rs = lambda t: np.array([-1,0,0]) + t * vs(t)\n",
    "q1 = Moving_Point_Charge(1.0, rs, vs)"
   ]
  },
  {
   "cell_type": "markdown",
   "metadata": {},
   "source": [
    "# Evaluate the scalar potential"
   ]
  },
  {
   "cell_type": "code",
   "execution_count": 4,
   "metadata": {},
   "outputs": [],
   "source": [
    "x_arr = np.linspace(-2,2,51)\n",
    "y_arr = np.linspace(-1,1,41)\n",
    "\n",
    "x_grid, y_grid = np.meshgrid(x_arr, y_arr, indexing='ij')\n",
    "z_grid = np.zeros_like(x_grid)"
   ]
  },
  {
   "cell_type": "code",
   "execution_count": 5,
   "metadata": {},
   "outputs": [],
   "source": [
    "scalpot_grid = q1.scalarpot(x_grid, y_grid, z_grid, t=0.0)"
   ]
  },
  {
   "cell_type": "markdown",
   "metadata": {},
   "source": [
    "# Plot"
   ]
  },
  {
   "cell_type": "code",
   "execution_count": 6,
   "metadata": {},
   "outputs": [],
   "source": [
    "from vis.plot import construct_catesian_mesh_for_pcolormesh\n",
    "x_color_grid, y_color_grid = construct_catesian_mesh_for_pcolormesh(x_arr, y_arr)\n",
    "z_color_grid = np.zeros_like(x_grid)"
   ]
  },
  {
   "cell_type": "code",
   "execution_count": 7,
   "metadata": {},
   "outputs": [],
   "source": [
    "vmax = np.quantile(scalpot_grid, 0.975)\n",
    "vmin = np.quantile(scalpot_grid, 0.025)\n",
    "from matplotlib.colors import Normalize\n",
    "norm = Normalize(vmin, vmax)"
   ]
  },
  {
   "cell_type": "code",
   "execution_count": 8,
   "metadata": {},
   "outputs": [
    {
     "data": {
      "image/png": "[encoded data removed]",
      "text/plain": [
       "<Figure size 504x216 with 2 Axes>"
      ]
     },
     "metadata": {},
     "output_type": "display_data"
    }
   ],
   "source": [
    "fig, ax = plt.subplots(figsize=(7,3))\n",
    "quad = ax.pcolormesh(x_color_grid, y_color_grid, scalpot_grid, \n",
    "                     cmap='jet', norm=norm)\n",
    "ax.set_aspect(1.0)\n",
    "ax.set_xlabel(\"x / a.u.\"), ax.set_ylabel(\"y / a.u.\")\n",
    "ax.set_title(r\"Liénard–Wiechert scalar potential $(v\\,/\\,c={:.2f})$\".format(beta))\n",
    "cb = fig.colorbar(quad, ax=ax)\n",
    "fig.tight_layout()"
   ]
  },
  {
   "cell_type": "code",
   "execution_count": 9,
   "metadata": {},
   "outputs": [
    {
     "name": "stdout",
     "output_type": "stream",
     "text": [
      "scalarpot-beta-0.50-seems-right-test-0.png\n"
     ]
    }
   ],
   "source": [
    "fig_filename = \"scalarpot-beta-{:.2f}-seems-right-test-0.png\".format(beta)\n",
    "print(fig_filename)\n",
    "# fig.savefig(fig_filename)"
   ]
  }
 ],
 "metadata": {
  "kernelspec": {
   "display_name": "Python 3",
   "language": "python",
   "name": "python3"
  },
  "language_info": {
   "codemirror_mode": {
    "name": "ipython",
    "version": 3
   },
   "file_extension": ".py",
   "mimetype": "text/x-python",
   "name": "python",
   "nbconvert_exporter": "python",
   "pygments_lexer": "ipython3",
   "version": "3.6.0"
  }
 },
 "nbformat": 4,
 "nbformat_minor": 2
}
