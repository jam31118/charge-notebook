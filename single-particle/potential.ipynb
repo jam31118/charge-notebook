{
 "cells": [
  {
   "cell_type": "code",
   "execution_count": 1,
   "metadata": {},
   "outputs": [],
   "source": [
    "import matplotlib.pyplot as plt\n",
    "import numpy as np"
   ]
  },
  {
   "cell_type": "markdown",
   "metadata": {},
   "source": [
    "# Define object for moving point charge"
   ]
  },
  {
   "cell_type": "code",
   "execution_count": 2,
   "metadata": {},
   "outputs": [],
   "source": [
    "from numbers import Real\n",
    "\n",
    "import numpy as np\n",
    "\n",
    "from charge.time import tr_arr\n",
    "\n",
    "class Moving_Point_Charge(object):\n",
    "    \n",
    "    # System spatial dimension\n",
    "    dim = 3\n",
    "    \n",
    "    # light speed in atomic unit\n",
    "    c = 1.0 / 0.0072973525693\n",
    "    \n",
    "    def __init__(self, q, rs, vs):\n",
    "        for _arg in (rs, vs): self._check_particle_vector_callable(_arg)\n",
    "        assert isinstance(q, Real)\n",
    "        self.q, self.rs, self.vs = q, rs, vs\n",
    "        \n",
    "        \n",
    "    def _check_particle_vector_callable(self, arg):\n",
    "        assert callable(arg)\n",
    "        _vec = arg(0)\n",
    "        assert isinstance(_vec, np.ndarray)\n",
    "        assert _vec.shape == (self.dim,)\n",
    "        \n",
    "        \n",
    "    def potentials_xyz(self, xyz, t):\n",
    "        \"\"\"\n",
    "        Evaluate Liénard–Wiechert scalar and vector potentials \n",
    "        at given space-time point(s) in atomic unit\n",
    "        \"\"\"\n",
    "        try: _xyz = np.array(xyz)\n",
    "        except: raise TypeError()\n",
    "        \n",
    "        _tr_arr = tr_arr(_xyz, t, self.rs, self.c)  # retarded time in atomic unit\n",
    "        \n",
    "        _rs, _vs = np.empty_like(_xyz), np.empty_like(_xyz)\n",
    "        \n",
    "        for _ind, _tr in np.ndenumerate(_tr_arr):\n",
    "            _rs[_ind], _vs[_ind] = self.rs(_tr), self.vs(_tr)\n",
    "        \n",
    "        _beta = _vs / self.c  # velocity relative to the light speed\n",
    "        _rela_xyz = _xyz - _rs\n",
    "        _dist = np.sqrt(np.square(_rela_xyz).sum(axis=-1))\n",
    "#         assert np.all(_dist > 0)\n",
    "        \n",
    "        _denom = _dist - (_rela_xyz * _beta).sum(axis=-1)\n",
    "        _scalarpot = self.q / _denom  # in atomic unit\n",
    "        \n",
    "        _vectorpot = np.moveaxis(np.moveaxis(_beta,-1,0) / self.c * _scalarpot,0,-1)\n",
    "        \n",
    "        return _scalarpot, _vectorpot\n",
    "    \n",
    "    \n",
    "    def potentials(self, x, y, z, t):\n",
    "        try: _xyz = np.moveaxis(np.array((x,y,z)), 0, -1)\n",
    "        except: raise Exception(\"Failed to construct coordinate array\")\n",
    "            \n",
    "        _scalarpot_xyz, _vectorpot_xyz = self.potentials_xyz(_xyz, t)\n",
    "        \n",
    "        # since it is scalar, dimension axis is absent, \n",
    "        # thus there's no need for axis swapping.\n",
    "        _scalarpot = _scalarpot_xyz  \n",
    "        \n",
    "        _vectorpot = np.moveaxis(_vectorpot_xyz, -1, 0)\n",
    "        \n",
    "        return _scalarpot, _vectorpot\n",
    "        \n",
    "    \n",
    "    def scalarpot_xyz(self, xyz, t):\n",
    "        \"\"\"\n",
    "        Evaluate Liénard–Wiechert scalar potential \n",
    "        at given space-time point(s) in atomic unit\n",
    "        \"\"\"\n",
    "        _scalarpot_xyz, _ = self.potentials_xyz(xyz, t)\n",
    "        return _scalarpot_xyz\n",
    "    \n",
    "    \n",
    "    def scalarpot(self, x, y, z, t):\n",
    "        try: _xyz = np.moveaxis(np.array((x,y,z)), 0, -1)\n",
    "        except: raise Exception(\"Failed to construct coordinate array\")\n",
    "        return self.scalarpot_xyz(_xyz, t)\n",
    "    "
   ]
  },
  {
   "cell_type": "markdown",
   "metadata": {},
   "source": [
    "# Define a particle"
   ]
  },
  {
   "cell_type": "code",
   "execution_count": 3,
   "metadata": {},
   "outputs": [],
   "source": [
    "c = Moving_Point_Charge.c\n",
    "\n",
    "t0, t1 = -0.4, -0.3\n",
    "\n",
    "r0 = np.array([-1.0, 0.0, 0.0])\n",
    "\n",
    "v0 = np.array([0.0, 0.0, 0.0])\n",
    "v1 = np.array([0.8 * c, 0.0, 0.0])\n",
    "\n",
    "a0 = (v1 - v0) / (t1 - t0)\n",
    "\n",
    "v1 = v0 + a0*(t1-t0)\n",
    "r1 = r0 + v0*(t1-t0) + 0.5 * a0*(t1-t0)**2\n",
    "\n",
    "def ap(t):\n",
    "    if t < t0: return np.array([0.0, 0.0, 0.0])\n",
    "    elif (t0 <= t) and (t < t1): return a0\n",
    "    else: return np.array([0.0, 0.0, 0.0])\n",
    "\n",
    "def vp(t):\n",
    "    if t < t0: return v0\n",
    "    elif (t0 <= t) and (t < t1): return v0 + a0*(t-t0)\n",
    "    else: return v1\n",
    "    \n",
    "def rp(t):\n",
    "    if t < t0: return r0 + v0*(t-t0)\n",
    "    elif (t0 <= t) and (t < t1): return r0 + v0 * (t - t0) + 0.5 * a0 * (t-t0)**2\n",
    "    else: return r1 + v1 *(t-t1)\n",
    "    \n",
    "# as_t = lambda t: a0\n",
    "# vs_t = lambda t: v0 + a0 * (t - t0)\n",
    "# rs_t = lambda t: r0 + v0 * (t - t0) + 0.5 * a0 * (t - t0)**2\n",
    "\n",
    "beta_t = lambda t: vp(t) / c"
   ]
  },
  {
   "cell_type": "markdown",
   "metadata": {},
   "source": [
    "## Plot the trajectory"
   ]
  },
  {
   "cell_type": "code",
   "execution_count": 4,
   "metadata": {},
   "outputs": [],
   "source": [
    "t_arr = np.linspace(t0 - 0.2*(t1-t0), t1 + 0.5*(t1-t0), 51)\n",
    "r_x = np.array([(rp(t)*np.array([1,0,0])).sum() for t in t_arr])\n",
    "v_x = np.array([(vp(t)*np.array([1,0,0])).sum() for t in t_arr])\n",
    "a_x = np.array([(ap(t)*np.array([1,0,0])).sum() for t in t_arr])\n",
    "beta_x = np.array([(beta_t(t)*np.array([1,0,0])).sum() for t in t_arr])"
   ]
  },
  {
   "cell_type": "code",
   "execution_count": 5,
   "metadata": {},
   "outputs": [
    {
     "data": {
      "image/png": "[encoded data removed]",
      "text/plain": [
       "<Figure size 432x288 with 3 Axes>"
      ]
     },
     "metadata": {
      "needs_background": "light"
     },
     "output_type": "display_data"
    }
   ],
   "source": [
    "figt, (axa, axv, axr) = plt.subplots(nrows=3)\n",
    "axa.plot(t_arr, a_x), axa.set_ylabel(r\"$a_{x}(t)$ [a.u.]\")\n",
    "axv.plot(t_arr, beta_x), axv.set_ylabel(r\"$v_{x}(t)\\,/\\,c$\")\n",
    "axr.plot(t_arr, r_x), axr.set_ylabel(r\"$r_{x}(t)$ [a.u.]\")\n",
    "figt.tight_layout()\n",
    "# figt.savefig(\"particle-traj-test-1.png\")"
   ]
  },
  {
   "cell_type": "markdown",
   "metadata": {},
   "source": [
    "## Construct a particle"
   ]
  },
  {
   "cell_type": "code",
   "execution_count": 6,
   "metadata": {},
   "outputs": [],
   "source": [
    "q1 = Moving_Point_Charge(1.0, rp, vp)"
   ]
  },
  {
   "cell_type": "markdown",
   "metadata": {},
   "source": [
    "# Evaluate the potentials"
   ]
  },
  {
   "cell_type": "code",
   "execution_count": 7,
   "metadata": {},
   "outputs": [],
   "source": [
    "xp_min, xp_max = rp(t_arr[0])[0], rp(t_arr[-1])[0]\n",
    "x_min, x_max = xp_min - 0.2 * (xp_max-xp_min), xp_max + 0.2 * (xp_max-xp_min)"
   ]
  },
  {
   "cell_type": "code",
   "execution_count": 8,
   "metadata": {},
   "outputs": [],
   "source": [
    "x_arr = np.linspace(x_min,x_max,101)\n",
    "y_arr = np.linspace(-2,2,41)\n",
    "\n",
    "x_grid, y_grid = np.meshgrid(x_arr, y_arr, indexing='ij')\n",
    "z_grid = np.zeros_like(x_grid)"
   ]
  },
  {
   "cell_type": "code",
   "execution_count": 9,
   "metadata": {},
   "outputs": [],
   "source": [
    "t_eval = t_arr[0] + 0.8 * (t_arr[-1] - t_arr[0])\n",
    "\n",
    "scalpot_grid = q1.scalarpot(x_grid, y_grid, z_grid, t=t_eval)\n",
    "\n",
    "# scalpot_grid, vecpot_grid = q1.potentials(x_grid, y_grid, z_grid, t=t_eval)"
   ]
  },
  {
   "cell_type": "code",
   "execution_count": 10,
   "metadata": {},
   "outputs": [
    {
     "data": {
      "text/plain": [
       "array([109.62879927,   0.        ,   0.        ])"
      ]
     },
     "execution_count": 10,
     "metadata": {},
     "output_type": "execute_result"
    }
   ],
   "source": [
    "vp(t_eval)"
   ]
  },
  {
   "cell_type": "markdown",
   "metadata": {},
   "source": [
    "# Plot"
   ]
  },
  {
   "cell_type": "code",
   "execution_count": 11,
   "metadata": {},
   "outputs": [],
   "source": [
    "from vis.plot import construct_catesian_mesh_for_pcolormesh\n",
    "x_color_grid, y_color_grid = construct_catesian_mesh_for_pcolormesh(x_arr, y_arr)\n",
    "z_color_grid = np.zeros_like(x_grid)"
   ]
  },
  {
   "cell_type": "code",
   "execution_count": 12,
   "metadata": {},
   "outputs": [],
   "source": [
    "vmax = np.quantile(scalpot_grid, 0.975)\n",
    "vmin = np.quantile(scalpot_grid, 0.025)\n",
    "from matplotlib.colors import Normalize\n",
    "norm = Normalize(vmin, vmax)"
   ]
  },
  {
   "cell_type": "code",
   "execution_count": 13,
   "metadata": {},
   "outputs": [
    {
     "data": {
      "image/png": "[encoded data removed]",
      "text/plain": [
       "<Figure size 576x144 with 2 Axes>"
      ]
     },
     "metadata": {
      "needs_background": "light"
     },
     "output_type": "display_data"
    }
   ],
   "source": [
    "fig, ax = plt.subplots(figsize=(8,2))\n",
    "\n",
    "# Plot scalar potential\n",
    "quad = ax.pcolormesh(x_color_grid, y_color_grid, scalpot_grid, \n",
    "                     cmap='gray', norm=norm)\n",
    "ax.set_aspect(1.0)\n",
    "ax.set_xlabel(\"x / a.u.\"), ax.set_ylabel(\"y / a.u.\")\n",
    "\n",
    "# Plot the particle\n",
    "xp, yp, zp = rp(t_eval)\n",
    "ax.plot(xp, yp, '.', color='gray')\n",
    "\n",
    "# ax.set_title(r\"Liénard–Wiechert scalar potential $(v\\,/\\,c={:.2f})$\".format(beta_t(t_eval)))\n",
    "ax.set_title(r\"Liénard–Wiechert scalar potential ($v_{{x}}/c={:.2f}$)\".format(vp(t_eval)[0]/c))\n",
    "cb = fig.colorbar(quad, ax=ax)\n",
    "fig.tight_layout()"
   ]
  },
  {
   "cell_type": "code",
   "execution_count": 14,
   "metadata": {},
   "outputs": [
    {
     "name": "stdout",
     "output_type": "stream",
     "text": [
      "scalarpot-accelerated-test-0.png\n"
     ]
    }
   ],
   "source": [
    "fig_filename = \"scalarpot-accelerated-test-0.png\"\n",
    "print(fig_filename)\n",
    "# fig.savefig(fig_filename)"
   ]
  }
 ],
 "metadata": {
  "kernelspec": {
   "display_name": "Python 3",
   "language": "python",
   "name": "python3"
  },
  "language_info": {
   "codemirror_mode": {
    "name": "ipython",
    "version": 3
   },
   "file_extension": ".py",
   "mimetype": "text/x-python",
   "name": "python",
   "nbconvert_exporter": "python",
   "pygments_lexer": "ipython3",
   "version": "3.5.2"
  }
 },
 "nbformat": 4,
 "nbformat_minor": 2
}
